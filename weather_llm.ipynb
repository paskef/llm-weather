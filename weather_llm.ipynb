{
  "nbformat": 4,
  "nbformat_minor": 0,
  "metadata": {
    "colab": {
      "provenance": [],
      "authorship_tag": "ABX9TyM2czv4B0QqVAZIHijJHOv4",
      "include_colab_link": true
    },
    "kernelspec": {
      "name": "python3",
      "display_name": "Python 3"
    },
    "language_info": {
      "name": "python"
    }
  },
  "cells": [
    {
      "cell_type": "markdown",
      "metadata": {
        "id": "view-in-github",
        "colab_type": "text"
      },
      "source": [
        "<a href=\"https://colab.research.google.com/github/paskef/llm-weather/blob/main/weather_llm.ipynb\" target=\"_parent\"><img src=\"https://colab.research.google.com/assets/colab-badge.svg\" alt=\"Open In Colab\"/></a>"
      ]
    },
    {
      "cell_type": "markdown",
      "source": [],
      "metadata": {
        "id": "iEPsWtV36tN2"
      }
    },
    {
      "cell_type": "markdown",
      "source": [
        "### Install and import"
      ],
      "metadata": {
        "id": "rfn6kGxA6hRf"
      }
    },
    {
      "cell_type": "code",
      "execution_count": 443,
      "metadata": {
        "id": "gauw-nVGJDRR"
      },
      "outputs": [],
      "source": [
        "!pip install -q -U google-generativeai"
      ]
    },
    {
      "cell_type": "code",
      "source": [
        "import google.generativeai as genai\n",
        "import requests\n",
        "import json\n",
        "import re"
      ],
      "metadata": {
        "id": "0RNMY5vh6Ygm"
      },
      "execution_count": 444,
      "outputs": []
    },
    {
      "cell_type": "markdown",
      "source": [
        "### Set the API Key"
      ],
      "metadata": {
        "id": "p6dxC2RF6u39"
      }
    },
    {
      "cell_type": "code",
      "source": [
        "\n",
        "from google.colab import userdata\n",
        "\n",
        "GOOGLE_API_KEY=userdata.get('api_key')\n",
        "genai.configure(api_key=GOOGLE_API_KEY)\n",
        "OPENWEATHER_API_KEY = userdata.get('openweather_api_key')"
      ],
      "metadata": {
        "id": "k2Rnkr3qJI9_"
      },
      "execution_count": 445,
      "outputs": []
    },
    {
      "cell_type": "markdown",
      "source": [
        "### Model settings"
      ],
      "metadata": {
        "id": "h4p8xQsm7QS8"
      }
    },
    {
      "cell_type": "code",
      "source": [
        "generation_config_result = {\n",
        "    'candidate_count': 1,\n",
        "    'temperature': 0.2,\n",
        "}"
      ],
      "metadata": {
        "id": "jt8qnr6DY55-"
      },
      "execution_count": 446,
      "outputs": []
    },
    {
      "cell_type": "code",
      "source": [
        "generation_config = {\n",
        "    'candidate_count': 1,\n",
        "    'temperature': 0,\n",
        "}"
      ],
      "metadata": {
        "id": "B6H8ijLiUCsb"
      },
      "execution_count": 447,
      "outputs": []
    },
    {
      "cell_type": "code",
      "source": [
        "safety_config = [\n",
        "    {\n",
        "        'category': 'HARM_CATEGORY_HARASSMENT',\n",
        "        'threshold': 'BLOCK_MEDIUM_AND_ABOVE'\n",
        "    },\n",
        "    {\n",
        "        'category': 'HARM_CATEGORY_HATE_SPEECH',\n",
        "        'threshold': 'BLOCK_MEDIUM_AND_ABOVE'\n",
        "    },\n",
        "    {\n",
        "        'category': 'HARM_CATEGORY_SEXUALLY_EXPLICIT',\n",
        "        'threshold': 'BLOCK_MEDIUM_AND_ABOVE'\n",
        "    },\n",
        "    {\n",
        "        'category': 'HARM_CATEGORY_DANGEROUS_CONTENT',\n",
        "        'threshold': 'BLOCK_MEDIUM_AND_ABOVE'\n",
        "    },\n",
        "]"
      ],
      "metadata": {
        "id": "Pk1GOirkUFhz"
      },
      "execution_count": 448,
      "outputs": []
    },
    {
      "cell_type": "code",
      "source": [
        "model = genai.GenerativeModel(model_name='gemini-1.0-pro',\n",
        "                              generation_config=generation_config,\n",
        "                              safety_settings=safety_config)\n"
      ],
      "metadata": {
        "id": "2Kyn6dIhUMZT"
      },
      "execution_count": 449,
      "outputs": []
    },
    {
      "cell_type": "markdown",
      "source": [
        "### Get latitude and longitude"
      ],
      "metadata": {
        "id": "9Ot2iZzM7TJE"
      }
    },
    {
      "cell_type": "code",
      "source": [
        "history = []\n",
        "while True:\n",
        "  try:\n",
        "    location = input('Enter the location: ')\n",
        "    history.append(f'User: Enter the location: {location}\\n')\n",
        "    response = model.generate_content(f'What are the latitude and longitude from {location}?')\n",
        "    print(response.text)\n",
        "    generated_text = response.text\n",
        "    numbers = re.findall(r'[-+]?\\d*\\.?\\d+', response.text)\n",
        "    latitude = numbers[0]\n",
        "    longitude = numbers[1]\n",
        "    break\n",
        "  except IndexError:\n",
        "    print('Invalid input. Please enter a valid location.')\n"
      ],
      "metadata": {
        "colab": {
          "base_uri": "https://localhost:8080/",
          "height": 53
        },
        "collapsed": true,
        "id": "ZLJSr1FaT0Ar",
        "outputId": "b94ba7fc-24e5-4d4c-b6cc-e0e10ab698b5"
      },
      "execution_count": 450,
      "outputs": [
        {
          "output_type": "stream",
          "name": "stdout",
          "text": [
            "Enter the location: São Paulo Brazil\n",
            "-23.5475° S, -46.6361° W\n"
          ]
        }
      ]
    },
    {
      "cell_type": "code",
      "source": [
        "history.append(f'Model: The location is {location}. What are the latitude and longitude?\\n')\n",
        "history.append(f'Latitude: {latitude} Longitude: {longitude} \\n')"
      ],
      "metadata": {
        "id": "DPC-bxCa0Jqo"
      },
      "execution_count": 451,
      "outputs": []
    },
    {
      "cell_type": "code",
      "source": [
        "\n",
        "url = f'http://api.openweathermap.org/data/2.5/weather?lat={latitude}&lon={longitude}&appid={OPENWEATHER_API_KEY}&units=metric'\n",
        "\n",
        "response = requests.get(url)\n",
        "data = response.json()"
      ],
      "metadata": {
        "id": "I1mhWJXESrLj"
      },
      "execution_count": 452,
      "outputs": []
    },
    {
      "cell_type": "code",
      "source": [
        "temp = data['main']['temp']\n",
        "weather_conditions = data['weather']"
      ],
      "metadata": {
        "id": "YU-nXj-GMsTG"
      },
      "execution_count": 453,
      "outputs": []
    },
    {
      "cell_type": "markdown",
      "source": [
        "### Generate results"
      ],
      "metadata": {
        "id": "CKuKKUv-7k_0"
      }
    },
    {
      "cell_type": "code",
      "source": [
        "model = genai.GenerativeModel(model_name='gemini-1.0-pro',\n",
        "                              generation_config=generation_config_result,\n",
        "                              safety_settings=safety_config)"
      ],
      "metadata": {
        "id": "wgwhnudcY3jC"
      },
      "execution_count": 454,
      "outputs": []
    },
    {
      "cell_type": "code",
      "source": [
        "response = model.generate_content(f'Temperature in {location} is {temp}°C with {weather_conditions}. List the location, temperature, weather conditions, possible clothing combinations (in topics) and why did you choose them.')"
      ],
      "metadata": {
        "id": "gkWwxgdgKfdG"
      },
      "execution_count": 455,
      "outputs": []
    },
    {
      "cell_type": "code",
      "source": [
        "print(response.text)"
      ],
      "metadata": {
        "colab": {
          "base_uri": "https://localhost:8080/"
        },
        "id": "jHdqwCt0Kl7u",
        "outputId": "5944f630-86d1-48d1-cc0e-2b1be5634303"
      },
      "execution_count": 456,
      "outputs": [
        {
          "output_type": "stream",
          "name": "stdout",
          "text": [
            "**Location:** São Paulo, Brazil\n",
            "\n",
            "**Temperature:** 21.34°C\n",
            "\n",
            "**Weather Conditions:** Overcast clouds\n",
            "\n",
            "**Possible Clothing Combinations:**\n",
            "\n",
            "* **Tops:**\n",
            "    * Long-sleeved shirt\n",
            "    * Light sweater\n",
            "    * Thin jacket\n",
            "* **Bottoms:**\n",
            "    * Jeans\n",
            "    * Khakis\n",
            "    * Dress pants\n",
            "* **Footwear:**\n",
            "    * Closed-toe shoes\n",
            "    * Boots\n",
            "    * Sneakers\n",
            "\n",
            "**Reasoning:**\n",
            "\n",
            "The temperature is mild, but the overcast clouds indicate that it may rain. Therefore, it is advisable to wear layers of clothing that can be easily adjusted as needed. A long-sleeved shirt or light sweater will provide warmth, while a thin jacket can be added if the temperature drops. Jeans or khakis are comfortable and appropriate for the weather conditions. Closed-toe shoes or boots will protect the feet from any rain or moisture.\n"
          ]
        }
      ]
    },
    {
      "cell_type": "markdown",
      "source": [],
      "metadata": {
        "id": "-IB3YFxwgEAv"
      }
    },
    {
      "cell_type": "markdown",
      "source": [
        "#### *History settings*"
      ],
      "metadata": {
        "id": "0NJjuFaP7vU8"
      }
    },
    {
      "cell_type": "code",
      "source": [
        "history.append(f'Model: Temperature in {location} is {temp}°C with {weather_conditions}. List the location, temperature, weather conditions, possible clothing combinations (in topics) and why did you choose them\\n')\n",
        "history.append(response.text)\n",
        "with open('chat_history.md', 'w') as f:\n",
        "    for item in history:\n",
        "        f.write(\"%s\\n\" % item)"
      ],
      "metadata": {
        "id": "6ZehqHDCzQCo"
      },
      "execution_count": 457,
      "outputs": []
    }
  ]
}